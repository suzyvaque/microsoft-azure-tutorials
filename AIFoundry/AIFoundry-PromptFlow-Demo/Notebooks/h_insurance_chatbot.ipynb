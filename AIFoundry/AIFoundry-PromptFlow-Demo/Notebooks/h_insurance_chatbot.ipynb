{
 "cells": [
  {
   "cell_type": "markdown",
   "metadata": {},
   "source": [
    "### .env"
   ]
  },
  {
   "cell_type": "code",
   "execution_count": 1,
   "metadata": {},
   "outputs": [
    {
     "name": "stdout",
     "output_type": "stream",
     "text": [
      "Collecting dotenv\n",
      "  Using cached dotenv-0.9.9-py2.py3-none-any.whl.metadata (279 bytes)\n",
      "Collecting python-dotenv (from dotenv)\n",
      "  Using cached python_dotenv-1.0.1-py3-none-any.whl.metadata (23 kB)\n",
      "Using cached dotenv-0.9.9-py2.py3-none-any.whl (1.9 kB)\n",
      "Using cached python_dotenv-1.0.1-py3-none-any.whl (19 kB)\n",
      "Installing collected packages: python-dotenv, dotenv\n",
      "Successfully installed dotenv-0.9.9 python-dotenv-1.0.1\n",
      "Note: you may need to restart the kernel to use updated packages.\n"
     ]
    },
    {
     "name": "stderr",
     "output_type": "stream",
     "text": [
      "\n",
      "[notice] A new release of pip is available: 24.3.1 -> 25.0.1\n",
      "[notice] To update, run: python.exe -m pip install --upgrade pip\n"
     ]
    }
   ],
   "source": [
    "%pip install dotenv"
   ]
  },
  {
   "cell_type": "code",
   "execution_count": 3,
   "metadata": {},
   "outputs": [],
   "source": [
    "from dotenv import load_dotenv\n",
    "import os\n",
    "\n",
    "load_dotenv()\n",
    "\n",
    "pf_endpoint_url = os.getenv(\"pf_endpoint_url\")\n",
    "pf_api_key = os.getenv(\"pf_api_key\")"
   ]
  },
  {
   "cell_type": "markdown",
   "metadata": {},
   "source": [
    "# Run PromptFlow"
   ]
  },
  {
   "cell_type": "code",
   "execution_count": 4,
   "metadata": {},
   "outputs": [
    {
     "name": "stdout",
     "output_type": "stream",
     "text": [
      "Collecting markdown\n",
      "  Downloading Markdown-3.7-py3-none-any.whl.metadata (7.0 kB)\n",
      "Downloading Markdown-3.7-py3-none-any.whl (106 kB)\n",
      "Installing collected packages: markdown\n",
      "Successfully installed markdown-3.7\n",
      "Note: you may need to restart the kernel to use updated packages.\n"
     ]
    },
    {
     "name": "stderr",
     "output_type": "stream",
     "text": [
      "\n",
      "[notice] A new release of pip is available: 24.3.1 -> 25.0.1\n",
      "[notice] To update, run: python.exe -m pip install --upgrade pip\n"
     ]
    }
   ],
   "source": [
    "%pip install markdown"
   ]
  },
  {
   "cell_type": "code",
   "execution_count": 7,
   "metadata": {},
   "outputs": [],
   "source": [
    "import urllib.request\n",
    "import json\n",
    "import os\n",
    "import ssl\n",
    "import markdown\n",
    "from IPython.display import display, HTML\n",
    "\n",
    "\n",
    "\n",
    "def allowSelfSignedHttps(allowed):\n",
    "    # bypass the server certificate verification on client side\n",
    "    if allowed and not os.environ.get('PYTHONHTTPSVERIFY', '') and getattr(ssl, '_create_unverified_context', None):\n",
    "        ssl._create_default_https_context = ssl._create_unverified_context\n",
    "\n",
    "def ask_insurance_chatbot(question):\n",
    "    allowSelfSignedHttps(True) # this line is needed if you use self-signed certificate in your scoring service.\n",
    "\n",
    "    # Request data goes here\n",
    "    data = {\"question\": question, \"chat_history\": []}\n",
    "\n",
    "    body = str.encode(json.dumps(data))\n",
    "\n",
    "    url = pf_endpoint_url\n",
    "    api_key = pf_api_key\n",
    "    if not api_key:\n",
    "        raise Exception(\"A key should be provided to invoke the endpoint\")\n",
    "\n",
    "    headers = {'Content-Type':'application/json', 'Accept': 'application/json', 'Authorization':('Bearer '+ api_key)}\n",
    "\n",
    "    req = urllib.request.Request(url, body, headers)\n",
    "\n",
    "    try:\n",
    "        response = urllib.request.urlopen(req)\n",
    "        response_text = response.read().decode(\"utf8\", 'ignore')\n",
    "        response_json = json.loads(response_text).get('answer')\n",
    "        display(HTML(markdown.markdown(str(response_json))))\n",
    "\n",
    "    except urllib.error.HTTPError as error:\n",
    "        print(\"The request failed with status code: \" + str(error.code))\n",
    "\n",
    "        # Print the headers - they include the requert ID and the timestamp, which are useful for debugging the failure\n",
    "        print(error.info())\n",
    "        print(error.read().decode(\"utf8\", 'ignore'))"
   ]
  },
  {
   "cell_type": "code",
   "execution_count": 11,
   "metadata": {},
   "outputs": [
    {
     "data": {
      "text/html": [
       "<h3>답변 요약</h3>\n",
       "<p>건강염려증으로 인해 다양한 건강 문제를 미리 대비하고 싶다면 <strong>한화생명 케어백H간병보험 무배당</strong>과 <strong>한화생명 H재해보험 무배당</strong>과 같은 상품을 고려해볼 수 있습니다.</p>\n",
       "<hr />\n",
       "<ol>\n",
       "<li><strong>한화생명 케어백H간병보험 무배당</strong></li>\n",
       "<li><strong>보장내용</strong>:\n",
       "     ① 장기요양에 대한 <strong>진단</strong>, <strong>의료비</strong>, <strong>간병</strong> 등을 보장합니다.\n",
       "     ② 장기요양 등급(1~5등급)에 따라 보험료 납입이 면제되며, 간병과 관련된 다양한 특약 가입이 가능합니다.</li>\n",
       "<li><strong>혜택</strong>:<ul>\n",
       "<li>간편가입형으로 <strong>유병력자</strong>나 <strong>고령자</strong>도 가입이 가능합니다.</li>\n",
       "<li>증액보장보험금으로 장기유지 보너스 제공.</li>\n",
       "<li>세액공제 혜택 가능(근로소득자가 기본공제대상자를 피보험자로 가입 시).</li>\n",
       "</ul>\n",
       "</li>\n",
       "<li>\n",
       "<p><strong>특이사항</strong>:</p>\n",
       "<ul>\n",
       "<li>납입기간 중 해지 시 해약환급금이 적을 수 있으나, 표준형보다 낮은 보험료로 가입 가능.</li>\n",
       "</ul>\n",
       "</li>\n",
       "<li>\n",
       "<p><strong>한화생명 H재해보험 무배당</strong></p>\n",
       "</li>\n",
       "<li><strong>보장내용</strong>:\n",
       "     ① <strong>일상생활 속 다양한 재해사고</strong>(교통사고 등)를 폭넓게 보장합니다.\n",
       "     ② 스포츠 손상, 야외 활동, 재해 수술, 재해 입원 등 세부적인 특약 가입이 가능합니다.</li>\n",
       "<li><strong>혜택</strong>:<ul>\n",
       "<li>보장의 세분화 및 다양화를 통해 고객의 필요에 맞춘 플랜 설계 가능.</li>\n",
       "<li>단체취급 시 보험료 할인(1.5%) 가능.</li>\n",
       "</ul>\n",
       "</li>\n",
       "<li>\n",
       "<p><strong>특이사항</strong>:</p>\n",
       "<ul>\n",
       "<li>20년, 30년 만기 등 다양한 선택이 가능하며, 비갱신형 특약으로 안정적인 보장 제공.</li>\n",
       "</ul>\n",
       "</li>\n",
       "<li>\n",
       "<p><strong>추천 이유</strong>:</p>\n",
       "</li>\n",
       "<li>건강염려증이 있는 분들은 예상치 못한 상황을 대비하고자 <strong>다양한 보장내용</strong>과 <strong>특약</strong>을 제공하는 상품이 적합합니다.</li>\n",
       "<li>두 상품 모두 고객의 니즈에 따라 보장을 세분화하여 설계할 수 있어 맞춤형 보장이 가능합니다.</li>\n",
       "</ol>\n",
       "<hr />\n",
       "<h3>참조</h3>\n",
       "<ul>\n",
       "<li>한화생명 케어백H간병보험 무배당: <a href=\"한화생명_케어백H간병보험_상품요약서.pdf\">\"한화생명_케어백H간병보험_상품요약서.pdf\"</a></li>\n",
       "<li>한화생명 H재해보험 무배당: <a href=\"한화생명_H재해보험_상품요약서.pdf\">\"한화생명_H재해보험_상품요약서.pdf\"</a></li>\n",
       "</ul>"
      ],
      "text/plain": [
       "<IPython.core.display.HTML object>"
      ]
     },
     "metadata": {},
     "output_type": "display_data"
    }
   ],
   "source": [
    "ask_insurance_chatbot(\"건강염려증이 심한데 어떤 보험에 가입하면 좋을까?\")"
   ]
  },
  {
   "cell_type": "code",
   "execution_count": 8,
   "metadata": {},
   "outputs": [
    {
     "data": {
      "text/html": [
       "<p><strong>네, 간병보험은 유병력자도 가입 가능합니다.</strong></p>\n",
       "<ol>\n",
       "<li><strong>간편가입형</strong>으로 설계된 한화생명 케어백H간병보험은 <strong>유병력자 및 고령자</strong>가 계약심사 및 건강검진의 부담을 줄여 보험에 가입할 수 있도록 계약심사 과정을 <strong>간소화</strong>한 상품입니다.</li>\n",
       "<li>일반심사보험보다 보험료가 다소 높을 수 있지만, <strong>건강상태나 가입 나이에 따라 가입이 제한될 수 있는 일반심사보험</strong>에 비해 가입이 용이합니다.</li>\n",
       "<li>다만, 간편가입형의 경우 기존 보험상품의 가입 유무 및 계약 전 알릴 의무 사항에 따라 <strong>보험가입 가능 여부</strong>를 판정받게 됩니다.</li>\n",
       "</ol>\n",
       "<p>참조: 한화생명_케어백H간병보험_상품요약서.pdf</p>"
      ],
      "text/plain": [
       "<IPython.core.display.HTML object>"
      ]
     },
     "metadata": {},
     "output_type": "display_data"
    }
   ],
   "source": [
    "ask_insurance_chatbot(\"유병력자라도 간병보험에 가입할 수 있을까?\")"
   ]
  },
  {
   "cell_type": "code",
   "execution_count": 9,
   "metadata": {},
   "outputs": [
    {
     "data": {
      "text/html": [
       "<p><strong>1년 동안 입원한 경우 모든 기간에 대해 급여금을 청구할 수는 없습니다.</strong></p>\n",
       "<ol>\n",
       "<li><strong>교통재해 입원급여금</strong>의 지급일수는 <strong>1회 입원당 최대 180일</strong>로 제한됩니다.</li>\n",
       "<li>동일한 교통재해로 인한 치료를 목적으로 입원한 경우, 이전 입원일수를 포함하여 합산해 <strong>1회 입원으로 간주</strong>하고, 180일 한도를 적용받습니다.</li>\n",
       "<li>다만, 만약 <strong>최종 입원 퇴원일로부터 180일이 경과</strong>한 후 새로운 입원이 시작되거나, 퇴원 없이 계속 입원하여 <strong>180일이 경과한 날부터의 입원</strong>은 새로운 입원으로 볼 수 있습니다.</li>\n",
       "<li>따라서, 1년 동안 입원하더라도 모든 기간에 대해 급여금을 청구할 수는 없으며, <strong>최대 180일까지만 지급</strong>됩니다.</li>\n",
       "</ol>\n",
       "<p>참조: 한화생명_H재해보험_보험약관.pdf</p>"
      ],
      "text/plain": [
       "<IPython.core.display.HTML object>"
      ]
     },
     "metadata": {},
     "output_type": "display_data"
    }
   ],
   "source": [
    "ask_insurance_chatbot(\"재해보험 가입 시, 교통사고로 1년 동안 입원했다면 전체 기간에 대해 급여금을 청구할 수 있을까?\")"
   ]
  },
  {
   "cell_type": "code",
   "execution_count": 12,
   "metadata": {},
   "outputs": [
    {
     "data": {
      "text/html": [
       "<p><strong>비흡연자로 가입할 경우 건강체로 인정되어 보험료 할인 혜택을 받을 수 있습니다.</strong></p>\n",
       "<ol>\n",
       "<li><strong>건강체로 인정</strong>:</li>\n",
       "<li>건강체 서비스특약 가입 시점에 <strong>비흡연</strong> 상태(최근 1년간 흡연 사실 없음)를 충족하면 건강체로 인정됩니다.</li>\n",
       "<li>\n",
       "<p>건강체로 인정되면 <strong>표준체 보험료</strong>보다 저렴한 <strong>건강체 보험료</strong>가 적용됩니다.</p>\n",
       "</li>\n",
       "<li>\n",
       "<p><strong>건강체 요건</strong>:</p>\n",
       "</li>\n",
       "<li><strong>혈압</strong>: 수축기혈압 139mmHg 이하, 이완기혈압 89mmHg 이하.</li>\n",
       "<li>\n",
       "<p><strong>BMI</strong>: 18.5 이상, 25 미만.</p>\n",
       "</li>\n",
       "<li>\n",
       "<p><strong>혜택</strong>:</p>\n",
       "</li>\n",
       "<li>건강체 기준 충족 시 주계약 및 특약에 대해 표준체보다 저렴한 보험료가 적용됩니다.</li>\n",
       "<li>예를 들어, 30세 남성 기준으로 표준체 보험료가 48,965원일 때 건강체 보험료는 48,165원으로 할인됩니다.</li>\n",
       "</ol>\n",
       "<p>참조: 한화생명_H건강보험Premium_상품요약서.pdf</p>"
      ],
      "text/plain": [
       "<IPython.core.display.HTML object>"
      ]
     },
     "metadata": {},
     "output_type": "display_data"
    }
   ],
   "source": [
    "ask_insurance_chatbot(\"건강보험에 가입할 때, 비흡연자라면 혜택을 받을 수 있을까?\")"
   ]
  },
  {
   "cell_type": "markdown",
   "metadata": {},
   "source": [
    "### ⬇️ Check App Traces\n",
    "\n",
    "[PromptFlow App Traces Workbook](https://portal.azure.com/#blade/Microsoft_Azure_WorkbooksExtension/WorkbookViewer.ReactView/ComponentId/%2Fsubscriptions%2Ff8b0b83e-4e98-41d9-90f8-7dd582a59d62%2Fresourcegroups%2Faz-fdrydemo-rg%2Fproviders%2Fmicrosoft.machinelearningservices%2Fworkspaces%2Faz-aiproject-eus-fdrydemo/ConfigurationId/%2Fsubscriptions%2Ff8b0b83e-4e98-41d9-90f8-7dd582a59d62%2FresourceGroups%2FAZ-FDRYDEMO-RG%2Fproviders%2Fmicrosoft.insights%2Fworkbooks%2F51A800C5-3BA5-45FE-AC0F-01053E44144D/WorkbookTemplateName/PromptFlow_SDK_AppTraces)"
   ]
  },
  {
   "cell_type": "markdown",
   "metadata": {},
   "source": [
    "# Tracing"
   ]
  },
  {
   "cell_type": "code",
   "execution_count": null,
   "metadata": {},
   "outputs": [],
   "source": [
    "%pip install promptflow-tracing"
   ]
  },
  {
   "cell_type": "code",
   "execution_count": 35,
   "metadata": {},
   "outputs": [],
   "source": [
    "import urllib.request\n",
    "import json\n",
    "import os\n",
    "import ssl\n",
    "import markdown\n",
    "from IPython.display import display, HTML\n",
    "\n",
    "from promptflow.tracing import start_trace, trace\n",
    "\n",
    "\n",
    "\n",
    "def allowSelfSignedHttps(allowed):\n",
    "    # bypass the server certificate verification on client side\n",
    "    if allowed and not os.environ.get('PYTHONHTTPSVERIFY', '') and getattr(ssl, '_create_unverified_context', None):\n",
    "        ssl._create_default_https_context = ssl._create_unverified_context\n",
    "\n",
    "\n",
    "\n",
    "@trace\n",
    "def prepare_request_data(question):\n",
    "    \"\"\"Function to encode question into json format\"\"\"\n",
    "\n",
    "    print(\"Preparing request data...\")\n",
    "    return str.encode(json.dumps({\"question\": question, \"chat_history\": []}))\n",
    "\n",
    "@trace\n",
    "def send_request(url, body, headers):\n",
    "    \"\"\"Function to send request to PromptFlow endpoint\"\"\"\n",
    "\n",
    "    print(\"Sending request to PromptFlow endpoint...\")\n",
    "    req = urllib.request.Request(url, body, headers)\n",
    "    response = urllib.request.urlopen(req)\n",
    "    return response.read().decode(\"utf8\", 'ignore')\n",
    "\n",
    "@trace\n",
    "def process_response(response_text):\n",
    "    \"\"\"Function to process response from PromptFlow endpoint\"\"\"\n",
    "\n",
    "    print(\"Processing response...\")\n",
    "    response_json = json.loads(response_text).get('answer')\n",
    "    display(HTML(markdown.markdown(str(response_json))))\n",
    "\n",
    "@trace\n",
    "def ask_insurance_chatbot_with_tracing(question):\n",
    "    \"\"\"Function to use PromptFlow chatbot service with tracing\"\"\"\n",
    "\n",
    "    allowSelfSignedHttps(True)  # Self-signed 인증서 허용\n",
    "\n",
    "    body = prepare_request_data(question)\n",
    "\n",
    "    url = 'https://pf-eus-fdrydemo.eastus.inference.ml.azure.com/score'\n",
    "    api_key = pf_api_key\n",
    "    if not api_key:\n",
    "        raise Exception(\"A key should be provided to invoke the endpoint\")\n",
    "\n",
    "    headers = {\n",
    "        'Content-Type': 'application/json',\n",
    "        'Accept': 'application/json',\n",
    "        'Authorization': 'Bearer ' + api_key\n",
    "    }\n",
    "\n",
    "    try:\n",
    "        response_text = send_request(url, body, headers)\n",
    "        process_response(response_text)\n",
    "\n",
    "    except urllib.error.HTTPError as error:\n",
    "        print(\"The request failed with status code:\", error.code)\n",
    "        print(error.info())\n",
    "        print(error.read().decode(\"utf8\", 'ignore'))"
   ]
  },
  {
   "cell_type": "code",
   "execution_count": 39,
   "metadata": {},
   "outputs": [
    {
     "name": "stdout",
     "output_type": "stream",
     "text": [
      "Preparing request data...\n",
      "Sending request to PromptFlow endpoint...\n",
      "Processing response...\n"
     ]
    },
    {
     "data": {
      "text/html": [
       "<p><strong>손가락 골절도 보험 보장의 대상이 될 수 있습니다.</strong></p>\n",
       "<ol>\n",
       "<li>삼성생명의 <strong>삼성초간편종합보장보험</strong> 약관에 따르면, 피보험자가 <strong>재해</strong>로 인해 골절 상태가 된 경우, \"재해골절진단보험금\"이 지급될 수 있습니다.</li>\n",
       "<li><strong>손가락 골절</strong>은 \"재해골절\"의 정의에 포함되며, 보험기간 중 발생한 재해에 대해 보장합니다.</li>\n",
       "<li>동일한 재해로 인해 복합골절 상태가 되더라도 보험금은 <strong>1회만 지급</strong>되며, 의학적 처치 및 치료를 목적으로 발생한 골절은 보장되지 않습니다.</li>\n",
       "<li>보험금 지급을 위해서는 <strong>의사 진단</strong> 및 <strong>특정 조건</strong>을 충족해야 하며, 보험기간 내 발생한 재해만 해당됩니다.</li>\n",
       "</ol>\n",
       "<p><strong>참조:</strong> 삼성생명_삼성초간편종합보장보험_보험약관.pdf</p>"
      ],
      "text/plain": [
       "<IPython.core.display.HTML object>"
      ]
     },
     "metadata": {},
     "output_type": "display_data"
    }
   ],
   "source": [
    "start_trace()\n",
    "ask_insurance_chatbot_with_tracing(\"손가락 골절을 당해도 보장받을 수 있을까?\")"
   ]
  },
  {
   "cell_type": "markdown",
   "metadata": {},
   "source": [
    "## Query from Application Insights"
   ]
  },
  {
   "cell_type": "code",
   "execution_count": null,
   "metadata": {},
   "outputs": [
    {
     "name": "stdout",
     "output_type": "stream",
     "text": [
      "Collecting azure-monitor-query\n",
      "  Downloading azure_monitor_query-1.4.1-py3-none-any.whl.metadata (38 kB)\n",
      "Collecting azure-core>=1.28.0 (from azure-monitor-query)\n",
      "  Using cached azure_core-1.32.0-py3-none-any.whl.metadata (39 kB)\n",
      "Requirement already satisfied: isodate>=0.6.0 in c:\\users\\t-suzyvaque\\onedrive - microsoft\\바탕 화면\\fdrydemo_ws\\fdrydemo_venv\\lib\\site-packages (from azure-monitor-query) (0.7.2)\n",
      "Requirement already satisfied: typing-extensions>=4.0.1 in c:\\users\\t-suzyvaque\\onedrive - microsoft\\바탕 화면\\fdrydemo_ws\\fdrydemo_venv\\lib\\site-packages (from azure-monitor-query) (4.12.2)\n",
      "Requirement already satisfied: requests>=2.21.0 in c:\\users\\t-suzyvaque\\onedrive - microsoft\\바탕 화면\\fdrydemo_ws\\fdrydemo_venv\\lib\\site-packages (from azure-core>=1.28.0->azure-monitor-query) (2.32.3)\n",
      "Requirement already satisfied: six>=1.11.0 in c:\\users\\t-suzyvaque\\onedrive - microsoft\\바탕 화면\\fdrydemo_ws\\fdrydemo_venv\\lib\\site-packages (from azure-core>=1.28.0->azure-monitor-query) (1.17.0)\n",
      "Requirement already satisfied: charset-normalizer<4,>=2 in c:\\users\\t-suzyvaque\\onedrive - microsoft\\바탕 화면\\fdrydemo_ws\\fdrydemo_venv\\lib\\site-packages (from requests>=2.21.0->azure-core>=1.28.0->azure-monitor-query) (3.4.1)\n",
      "Requirement already satisfied: idna<4,>=2.5 in c:\\users\\t-suzyvaque\\onedrive - microsoft\\바탕 화면\\fdrydemo_ws\\fdrydemo_venv\\lib\\site-packages (from requests>=2.21.0->azure-core>=1.28.0->azure-monitor-query) (3.10)\n",
      "Requirement already satisfied: urllib3<3,>=1.21.1 in c:\\users\\t-suzyvaque\\onedrive - microsoft\\바탕 화면\\fdrydemo_ws\\fdrydemo_venv\\lib\\site-packages (from requests>=2.21.0->azure-core>=1.28.0->azure-monitor-query) (2.3.0)\n",
      "Requirement already satisfied: certifi>=2017.4.17 in c:\\users\\t-suzyvaque\\onedrive - microsoft\\바탕 화면\\fdrydemo_ws\\fdrydemo_venv\\lib\\site-packages (from requests>=2.21.0->azure-core>=1.28.0->azure-monitor-query) (2025.1.31)\n",
      "Downloading azure_monitor_query-1.4.1-py3-none-any.whl (157 kB)\n",
      "Using cached azure_core-1.32.0-py3-none-any.whl (198 kB)\n",
      "Installing collected packages: azure-core, azure-monitor-query\n",
      "Successfully installed azure-core-1.32.0 azure-monitor-query-1.4.1\n",
      "Note: you may need to restart the kernel to use updated packages.\n"
     ]
    },
    {
     "name": "stderr",
     "output_type": "stream",
     "text": [
      "\n",
      "[notice] A new release of pip is available: 24.3.1 -> 25.0.1\n",
      "[notice] To update, run: python.exe -m pip install --upgrade pip\n"
     ]
    }
   ],
   "source": [
    "%pip install azure-monitor-query"
   ]
  },
  {
   "cell_type": "code",
   "execution_count": 44,
   "metadata": {},
   "outputs": [],
   "source": [
    "from dotenv import load_dotenv\n",
    "import os\n",
    "\n",
    "load_dotenv()\n",
    "app_insights_app_id = os.getenv(\"app_insights_app_id\")\n",
    "app_insights_api_key = os.getenv(\"app_insights_api_key\")"
   ]
  },
  {
   "cell_type": "code",
   "execution_count": 41,
   "metadata": {},
   "outputs": [],
   "source": [
    "query = \"\"\"\"\n",
    "AppTraces\n",
    "| project AppRoleName, Message, TimeGenerated, Type\n",
    "| order by TimeGenerated desc\"\n",
    "\"\"\""
   ]
  },
  {
   "cell_type": "code",
   "execution_count": 45,
   "metadata": {},
   "outputs": [
    {
     "name": "stdout",
     "output_type": "stream",
     "text": [
      "Error: 403, {\"error\":{\"message\":\"The provided credentials have insufficient access to perform the requested operation\",\"code\":\"InsufficientAccessError\",\"correlationId\":\"019e41ac-7ba3-4a59-80d2-f5ada3bc51dd\"}}\n"
     ]
    }
   ],
   "source": [
    "import requests\n",
    "import pandas as pd\n",
    "\n",
    "url = f\"https://api.applicationinsights.io/v1/apps/{app_insights_app_id}/query\"\n",
    "\n",
    "headers = {\n",
    "    \"x-api-key\": app_insights_api_key,  # API Key authentication\n",
    "    \"Content-Type\": \"application/json\"\n",
    "}\n",
    "\n",
    "params = {\n",
    "    \"query\": query\n",
    "}\n",
    "\n",
    "try:\n",
    "    response = requests.get(url, headers=headers, params=params)\n",
    "\n",
    "    if response.status_code == 200:\n",
    "        result = response.json()\n",
    "\n",
    "        for table in result.get(\"tables\", []):\n",
    "            columns = [col[\"name\"] for col in table[\"columns\"]]\n",
    "            rows = table[\"rows\"]\n",
    "            df = pd.DataFrame(rows, columns=columns)\n",
    "            print(df)\n",
    "    else:\n",
    "        print(f\"Error: {response.status_code}, {response.text}\")\n",
    "\n",
    "except Exception as e:\n",
    "    print(\"Something fatal happened:\", str(e))"
   ]
  }
 ],
 "metadata": {
  "kernelspec": {
   "display_name": "fdrydemo_venv",
   "language": "python",
   "name": "python3"
  },
  "language_info": {
   "codemirror_mode": {
    "name": "ipython",
    "version": 3
   },
   "file_extension": ".py",
   "mimetype": "text/x-python",
   "name": "python",
   "nbconvert_exporter": "python",
   "pygments_lexer": "ipython3",
   "version": "3.13.1"
  }
 },
 "nbformat": 4,
 "nbformat_minor": 2
}

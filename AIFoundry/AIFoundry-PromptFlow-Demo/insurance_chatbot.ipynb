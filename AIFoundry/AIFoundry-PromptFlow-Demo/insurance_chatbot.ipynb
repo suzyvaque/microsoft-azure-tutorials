{
 "cells": [
  {
   "cell_type": "markdown",
   "metadata": {},
   "source": [
    "### .env"
   ]
  },
  {
   "cell_type": "code",
   "execution_count": 1,
   "metadata": {},
   "outputs": [
    {
     "name": "stdout",
     "output_type": "stream",
     "text": [
      "Collecting dotenv\n",
      "  Using cached dotenv-0.9.9-py2.py3-none-any.whl.metadata (279 bytes)\n",
      "Collecting python-dotenv (from dotenv)\n",
      "  Using cached python_dotenv-1.0.1-py3-none-any.whl.metadata (23 kB)\n",
      "Using cached dotenv-0.9.9-py2.py3-none-any.whl (1.9 kB)\n",
      "Using cached python_dotenv-1.0.1-py3-none-any.whl (19 kB)\n",
      "Installing collected packages: python-dotenv, dotenv\n",
      "Successfully installed dotenv-0.9.9 python-dotenv-1.0.1\n",
      "Note: you may need to restart the kernel to use updated packages.\n"
     ]
    },
    {
     "name": "stderr",
     "output_type": "stream",
     "text": [
      "\n",
      "[notice] A new release of pip is available: 24.3.1 -> 25.0.1\n",
      "[notice] To update, run: python.exe -m pip install --upgrade pip\n"
     ]
    }
   ],
   "source": [
    "%pip install dotenv"
   ]
  },
  {
   "cell_type": "code",
   "execution_count": 1,
   "metadata": {},
   "outputs": [],
   "source": [
    "from dotenv import load_dotenv\n",
    "import os\n",
    "\n",
    "load_dotenv()\n",
    "pf_api_key = os.getenv(\"pf_api_key\")"
   ]
  },
  {
   "cell_type": "markdown",
   "metadata": {},
   "source": [
    "# Run PromptFlow"
   ]
  },
  {
   "cell_type": "code",
   "execution_count": 4,
   "metadata": {},
   "outputs": [
    {
     "name": "stdout",
     "output_type": "stream",
     "text": [
      "Collecting markdown\n",
      "  Downloading Markdown-3.7-py3-none-any.whl.metadata (7.0 kB)\n",
      "Downloading Markdown-3.7-py3-none-any.whl (106 kB)\n",
      "Installing collected packages: markdown\n",
      "Successfully installed markdown-3.7\n",
      "Note: you may need to restart the kernel to use updated packages.\n"
     ]
    },
    {
     "name": "stderr",
     "output_type": "stream",
     "text": [
      "\n",
      "[notice] A new release of pip is available: 24.3.1 -> 25.0.1\n",
      "[notice] To update, run: python.exe -m pip install --upgrade pip\n"
     ]
    }
   ],
   "source": [
    "%pip install markdown"
   ]
  },
  {
   "cell_type": "code",
   "execution_count": 2,
   "metadata": {},
   "outputs": [],
   "source": [
    "import urllib.request\n",
    "import json\n",
    "import os\n",
    "import ssl\n",
    "import markdown\n",
    "from IPython.display import display, HTML\n",
    "\n",
    "\n",
    "\n",
    "def allowSelfSignedHttps(allowed):\n",
    "    # bypass the server certificate verification on client side\n",
    "    if allowed and not os.environ.get('PYTHONHTTPSVERIFY', '') and getattr(ssl, '_create_unverified_context', None):\n",
    "        ssl._create_default_https_context = ssl._create_unverified_context\n",
    "\n",
    "def ask_insurance_chatbot(question):\n",
    "    allowSelfSignedHttps(True) # this line is needed if you use self-signed certificate in your scoring service.\n",
    "\n",
    "    # Request data goes here\n",
    "    data = {\"question\": question, \"chat_history\": []}\n",
    "\n",
    "    body = str.encode(json.dumps(data))\n",
    "\n",
    "    url = 'https://pf-eus-fdrydemo.eastus.inference.ml.azure.com/score'\n",
    "    api_key = pf_api_key\n",
    "    if not api_key:\n",
    "        raise Exception(\"A key should be provided to invoke the endpoint\")\n",
    "\n",
    "    headers = {'Content-Type':'application/json', 'Accept': 'application/json', 'Authorization':('Bearer '+ api_key)}\n",
    "\n",
    "    req = urllib.request.Request(url, body, headers)\n",
    "\n",
    "    try:\n",
    "        response = urllib.request.urlopen(req)\n",
    "        response_text = response.read().decode(\"utf8\", 'ignore')\n",
    "        response_json = json.loads(response_text).get('answer')\n",
    "        display(HTML(markdown.markdown(str(response_json))))\n",
    "\n",
    "    except urllib.error.HTTPError as error:\n",
    "        print(\"The request failed with status code: \" + str(error.code))\n",
    "\n",
    "        # Print the headers - they include the requert ID and the timestamp, which are useful for debugging the failure\n",
    "        print(error.info())\n",
    "        print(error.read().decode(\"utf8\", 'ignore'))"
   ]
  },
  {
   "cell_type": "code",
   "execution_count": 28,
   "metadata": {},
   "outputs": [
    {
     "data": {
      "text/html": [
       "<p><strong>스마트보험 가입 시 필수 제공 정보와 선택적 제공 정보는 개인정보와 관련된 법적 요건에 따라 구분됩니다.</strong></p>\n",
       "<ol>\n",
       "<li><strong>필수적으로 제공해야 하는 정보</strong>:</li>\n",
       "<li><strong>개인정보</strong>: 이름, 연락처, 주민등록번호 등 보험 가입 및 계약 이행에 필요한 식별 정보.</li>\n",
       "<li><strong>건강 정보</strong>: 가입 조건 충족 여부를 판단하기 위해 요구되는 건강 상태 관련 정보.</li>\n",
       "<li><strong>금융 정보</strong>: 보험료 납부를 위한 계좌 정보 등.</li>\n",
       "<li>\n",
       "<p>이는 개인정보보호법 제15조에 따라 정보주체의 동의 하에 수집되며 계약 이행 등의 목적으로 사용됩니다.</p>\n",
       "</li>\n",
       "<li>\n",
       "<p><strong>선택적으로 제공할 수 있는 정보</strong>:</p>\n",
       "</li>\n",
       "<li><strong>마케팅 활용 정보</strong>: 보험 상품 홍보 및 추가 혜택 제공을 위한 추가 정보.</li>\n",
       "<li><strong>기타 선택적 정보</strong>: 보험사의 서비스 개선을 위한 설문조사 응답 등.</li>\n",
       "<li>선택적 정보 제공은 정보주체의 명확한 동의가 필요하며, 동의를 거부할 권리가 있습니다.</li>\n",
       "</ol>\n",
       "<p><strong>참조:</strong> 삼성생명_삼성스마트보장보험_보험약관.pdf</p>"
      ],
      "text/plain": [
       "<IPython.core.display.HTML object>"
      ]
     },
     "metadata": {},
     "output_type": "display_data"
    }
   ],
   "source": [
    "ask_insurance_chatbot(\"스마트보험 가입을 위해 보험사에 알려야 하는 정보의 범위\")"
   ]
  },
  {
   "cell_type": "code",
   "execution_count": 6,
   "metadata": {},
   "outputs": [
    {
     "data": {
      "text/html": [
       "<h3>요약: 동일 사고로 인한 여러 골절의 경우, 보험금은 <strong>1회만 지급</strong>됩니다.</h3>\n",
       "<ol>\n",
       "<li><strong>5대재해골절보험</strong> 약관에 따르면, 동일한 사고로 인해 여러 신체부위에 골절(복합골절)이 발생하더라도, 보험금은 <strong>1회만 지급</strong>됩니다.</li>\n",
       "<li>의학적 치료를 위해 의도적으로 골절을 발생시킨 경우에는 보험금이 지급되지 않습니다.</li>\n",
       "<li>동일 사고란, 하나의 사건으로 인한 골절을 의미하며, 보험 기간 중 발생한 사고에 한해 보장됩니다.</li>\n",
       "</ol>\n",
       "<p><strong>참조:</strong> 삼성생명_삼성5대재해골절보장보험_보험약관.pdf</p>"
      ],
      "text/plain": [
       "<IPython.core.display.HTML object>"
      ]
     },
     "metadata": {},
     "output_type": "display_data"
    }
   ],
   "source": [
    "ask_insurance_chatbot(\"5대재해골절보험에 가입한 상태야. 한 번의 사고로 여러 개의 골절을 당했는데, 각 골절에 대해 보험금을 받을 수 있을까?\")"
   ]
  },
  {
   "cell_type": "code",
   "execution_count": 57,
   "metadata": {},
   "outputs": [
    {
     "data": {
      "text/html": [
       "<h3>답변 요약</h3>\n",
       "<p>재해골절 보험 가입 시, <strong>요양 비용 보장 여부</strong>는 약관에 명시된 조건에 따라 달라지며, 전액 보장이 아닐 수도 있습니다.</p>\n",
       "<hr />\n",
       "<ol>\n",
       "<li><strong>재해골절 보험의 보장 내용</strong>  </li>\n",
       "<li><strong>입원비 보장</strong> 여부는 가입한 보험의 특약 조건과 제출된 청구 서류에 따라 다릅니다.  </li>\n",
       "<li>\n",
       "<p>약관에 따르면, 일반적으로 <strong>골절로 인한 입원 치료비</strong>는 보장 대상이 될 수 있으나, 요양 목적의 입원은 보장 대상이 아닐 가능성이 있습니다.</p>\n",
       "</li>\n",
       "<li>\n",
       "<p><strong>보험금 청구 절차</strong>  </p>\n",
       "</li>\n",
       "<li>청구를 위해 입원 확인서, 진단서 등 필수 서류를 제출해야 합니다.  </li>\n",
       "<li>\n",
       "<p>보험사가 해당 입원이 치료 목적인지 요양 목적인지를 판단하게 됩니다.</p>\n",
       "</li>\n",
       "<li>\n",
       "<p><strong>전액 보장 여부</strong>  </p>\n",
       "</li>\n",
       "<li>약관에는 통상적으로 <strong>보험금 지급 한도</strong>가 명시되어 있으며, 실제 발생한 비용의 일부만 보장될 수 있습니다.  </li>\n",
       "<li>\n",
       "<p>요양 비용은 명시된 보장 항목에 포함되지 않을 가능성이 높습니다.</p>\n",
       "</li>\n",
       "<li>\n",
       "<p><strong>확인 방법</strong>  </p>\n",
       "</li>\n",
       "<li>계약하신 보험 약관을 확인하시거나, 삼성생명 <strong>콜센터(☎ 1588-3114)</strong>를 통해 상세 내용을 문의하실 수 있습니다.  </li>\n",
       "</ol>\n",
       "<hr />\n",
       "<p>참조: 삼성생명_삼성5대재해골절보장보험_보험약관.pdf</p>"
      ],
      "text/plain": [
       "<IPython.core.display.HTML object>"
      ]
     },
     "metadata": {},
     "output_type": "display_data"
    }
   ],
   "source": [
    "ask_insurance_chatbot(\"재해골절보험에 가입 후 집 근처의 종합병원에 입원했어. 요양 비용을 모두 보장받을 수 있을까?\")"
   ]
  },
  {
   "cell_type": "code",
   "execution_count": 58,
   "metadata": {},
   "outputs": [
    {
     "data": {
      "text/html": [
       "<p><strong>스마트보험으로 코로나 관련 진단비 또는 치료비 보장이 가능합니다.</strong></p>\n",
       "<ol>\n",
       "<li><strong>삼성 스마트보장보험(2501)</strong>은 <strong>특정법정감염병</strong>에 대한 진단을 보장하는 <strong>보장성 보험</strong>입니다.  </li>\n",
       "<li>\n",
       "<p>따라서 코로나와 같은 특정법정감염병 진단에 대한 보장이 가능합니다.</p>\n",
       "</li>\n",
       "<li>\n",
       "<p>자세한 보장 내용 및 보험금 지급 여부는 고객님이 가입한 계약 내용과 약관을 확인해야 하며, 약관에 명시된 <strong>보장 개시일 이후</strong> 발생한 질병만 보장됩니다.</p>\n",
       "</li>\n",
       "<li>\n",
       "<p>다만, 보험금 지급 여부는 약관에 따라 <strong>진단비 보장 조건</strong>에 부합해야 하므로, 구체적인 보장 범위와 지급 조건을 확인하시기 바랍니다.</p>\n",
       "</li>\n",
       "</ol>\n",
       "<p>참조: 삼성생명_삼성스마트보장보험_보험약관.pdf </p>"
      ],
      "text/plain": [
       "<IPython.core.display.HTML object>"
      ]
     },
     "metadata": {},
     "output_type": "display_data"
    }
   ],
   "source": [
    "ask_insurance_chatbot(\"스마트보험으로 코로나 진단에 대한 보장을 받을 수 있을까?\")"
   ]
  },
  {
   "cell_type": "markdown",
   "metadata": {},
   "source": [
    "### ⬇️ Check App Traces\n",
    "\n",
    "[PromptFlow App Traces Workbook](https://portal.azure.com/#blade/Microsoft_Azure_WorkbooksExtension/WorkbookViewer.ReactView/ComponentId/%2Fsubscriptions%2Ff8b0b83e-4e98-41d9-90f8-7dd582a59d62%2Fresourcegroups%2Faz-fdrydemo-rg%2Fproviders%2Fmicrosoft.machinelearningservices%2Fworkspaces%2Faz-aiproject-eus-fdrydemo/ConfigurationId/%2Fsubscriptions%2Ff8b0b83e-4e98-41d9-90f8-7dd582a59d62%2FresourceGroups%2FAZ-FDRYDEMO-RG%2Fproviders%2Fmicrosoft.insights%2Fworkbooks%2F51A800C5-3BA5-45FE-AC0F-01053E44144D/WorkbookTemplateName/PromptFlow_SDK_AppTraces)"
   ]
  },
  {
   "cell_type": "markdown",
   "metadata": {},
   "source": [
    "# Tracing"
   ]
  },
  {
   "cell_type": "code",
   "execution_count": null,
   "metadata": {},
   "outputs": [],
   "source": [
    "%pip install promptflow-tracing"
   ]
  },
  {
   "cell_type": "code",
   "execution_count": 35,
   "metadata": {},
   "outputs": [],
   "source": [
    "import urllib.request\n",
    "import json\n",
    "import os\n",
    "import ssl\n",
    "import markdown\n",
    "from IPython.display import display, HTML\n",
    "\n",
    "from promptflow.tracing import start_trace, trace\n",
    "\n",
    "\n",
    "\n",
    "def allowSelfSignedHttps(allowed):\n",
    "    # bypass the server certificate verification on client side\n",
    "    if allowed and not os.environ.get('PYTHONHTTPSVERIFY', '') and getattr(ssl, '_create_unverified_context', None):\n",
    "        ssl._create_default_https_context = ssl._create_unverified_context\n",
    "\n",
    "\n",
    "\n",
    "@trace\n",
    "def prepare_request_data(question):\n",
    "    \"\"\"Function to encode question into json format\"\"\"\n",
    "\n",
    "    print(\"Preparing request data...\")\n",
    "    return str.encode(json.dumps({\"question\": question, \"chat_history\": []}))\n",
    "\n",
    "@trace\n",
    "def send_request(url, body, headers):\n",
    "    \"\"\"Function to send request to PromptFlow endpoint\"\"\"\n",
    "\n",
    "    print(\"Sending request to PromptFlow endpoint...\")\n",
    "    req = urllib.request.Request(url, body, headers)\n",
    "    response = urllib.request.urlopen(req)\n",
    "    return response.read().decode(\"utf8\", 'ignore')\n",
    "\n",
    "@trace\n",
    "def process_response(response_text):\n",
    "    \"\"\"Function to process response from PromptFlow endpoint\"\"\"\n",
    "\n",
    "    print(\"Processing response...\")\n",
    "    response_json = json.loads(response_text).get('answer')\n",
    "    display(HTML(markdown.markdown(str(response_json))))\n",
    "\n",
    "@trace\n",
    "def ask_insurance_chatbot_with_tracing(question):\n",
    "    \"\"\"Function to use PromptFlow chatbot service with tracing\"\"\"\n",
    "\n",
    "    allowSelfSignedHttps(True)  # Self-signed 인증서 허용\n",
    "\n",
    "    body = prepare_request_data(question)\n",
    "\n",
    "    url = 'https://pf-eus-fdrydemo.eastus.inference.ml.azure.com/score'\n",
    "    api_key = pf_api_key\n",
    "    if not api_key:\n",
    "        raise Exception(\"A key should be provided to invoke the endpoint\")\n",
    "\n",
    "    headers = {\n",
    "        'Content-Type': 'application/json',\n",
    "        'Accept': 'application/json',\n",
    "        'Authorization': 'Bearer ' + api_key\n",
    "    }\n",
    "\n",
    "    try:\n",
    "        response_text = send_request(url, body, headers)\n",
    "        process_response(response_text)\n",
    "\n",
    "    except urllib.error.HTTPError as error:\n",
    "        print(\"The request failed with status code:\", error.code)\n",
    "        print(error.info())\n",
    "        print(error.read().decode(\"utf8\", 'ignore'))"
   ]
  },
  {
   "cell_type": "code",
   "execution_count": 39,
   "metadata": {},
   "outputs": [
    {
     "name": "stdout",
     "output_type": "stream",
     "text": [
      "Preparing request data...\n",
      "Sending request to PromptFlow endpoint...\n",
      "Processing response...\n"
     ]
    },
    {
     "data": {
      "text/html": [
       "<p><strong>손가락 골절도 보험 보장의 대상이 될 수 있습니다.</strong></p>\n",
       "<ol>\n",
       "<li>삼성생명의 <strong>삼성초간편종합보장보험</strong> 약관에 따르면, 피보험자가 <strong>재해</strong>로 인해 골절 상태가 된 경우, \"재해골절진단보험금\"이 지급될 수 있습니다.</li>\n",
       "<li><strong>손가락 골절</strong>은 \"재해골절\"의 정의에 포함되며, 보험기간 중 발생한 재해에 대해 보장합니다.</li>\n",
       "<li>동일한 재해로 인해 복합골절 상태가 되더라도 보험금은 <strong>1회만 지급</strong>되며, 의학적 처치 및 치료를 목적으로 발생한 골절은 보장되지 않습니다.</li>\n",
       "<li>보험금 지급을 위해서는 <strong>의사 진단</strong> 및 <strong>특정 조건</strong>을 충족해야 하며, 보험기간 내 발생한 재해만 해당됩니다.</li>\n",
       "</ol>\n",
       "<p><strong>참조:</strong> 삼성생명_삼성초간편종합보장보험_보험약관.pdf</p>"
      ],
      "text/plain": [
       "<IPython.core.display.HTML object>"
      ]
     },
     "metadata": {},
     "output_type": "display_data"
    }
   ],
   "source": [
    "start_trace()\n",
    "ask_insurance_chatbot_with_tracing(\"손가락 골절을 당해도 보장받을 수 있을까?\")"
   ]
  },
  {
   "cell_type": "markdown",
   "metadata": {},
   "source": [
    "## Query from Application Insights"
   ]
  },
  {
   "cell_type": "code",
   "execution_count": null,
   "metadata": {},
   "outputs": [
    {
     "name": "stdout",
     "output_type": "stream",
     "text": [
      "Collecting azure-monitor-query\n",
      "  Downloading azure_monitor_query-1.4.1-py3-none-any.whl.metadata (38 kB)\n",
      "Collecting azure-core>=1.28.0 (from azure-monitor-query)\n",
      "  Using cached azure_core-1.32.0-py3-none-any.whl.metadata (39 kB)\n",
      "Requirement already satisfied: isodate>=0.6.0 in c:\\users\\t-suzyvaque\\onedrive - microsoft\\바탕 화면\\fdrydemo_ws\\fdrydemo_venv\\lib\\site-packages (from azure-monitor-query) (0.7.2)\n",
      "Requirement already satisfied: typing-extensions>=4.0.1 in c:\\users\\t-suzyvaque\\onedrive - microsoft\\바탕 화면\\fdrydemo_ws\\fdrydemo_venv\\lib\\site-packages (from azure-monitor-query) (4.12.2)\n",
      "Requirement already satisfied: requests>=2.21.0 in c:\\users\\t-suzyvaque\\onedrive - microsoft\\바탕 화면\\fdrydemo_ws\\fdrydemo_venv\\lib\\site-packages (from azure-core>=1.28.0->azure-monitor-query) (2.32.3)\n",
      "Requirement already satisfied: six>=1.11.0 in c:\\users\\t-suzyvaque\\onedrive - microsoft\\바탕 화면\\fdrydemo_ws\\fdrydemo_venv\\lib\\site-packages (from azure-core>=1.28.0->azure-monitor-query) (1.17.0)\n",
      "Requirement already satisfied: charset-normalizer<4,>=2 in c:\\users\\t-suzyvaque\\onedrive - microsoft\\바탕 화면\\fdrydemo_ws\\fdrydemo_venv\\lib\\site-packages (from requests>=2.21.0->azure-core>=1.28.0->azure-monitor-query) (3.4.1)\n",
      "Requirement already satisfied: idna<4,>=2.5 in c:\\users\\t-suzyvaque\\onedrive - microsoft\\바탕 화면\\fdrydemo_ws\\fdrydemo_venv\\lib\\site-packages (from requests>=2.21.0->azure-core>=1.28.0->azure-monitor-query) (3.10)\n",
      "Requirement already satisfied: urllib3<3,>=1.21.1 in c:\\users\\t-suzyvaque\\onedrive - microsoft\\바탕 화면\\fdrydemo_ws\\fdrydemo_venv\\lib\\site-packages (from requests>=2.21.0->azure-core>=1.28.0->azure-monitor-query) (2.3.0)\n",
      "Requirement already satisfied: certifi>=2017.4.17 in c:\\users\\t-suzyvaque\\onedrive - microsoft\\바탕 화면\\fdrydemo_ws\\fdrydemo_venv\\lib\\site-packages (from requests>=2.21.0->azure-core>=1.28.0->azure-monitor-query) (2025.1.31)\n",
      "Downloading azure_monitor_query-1.4.1-py3-none-any.whl (157 kB)\n",
      "Using cached azure_core-1.32.0-py3-none-any.whl (198 kB)\n",
      "Installing collected packages: azure-core, azure-monitor-query\n",
      "Successfully installed azure-core-1.32.0 azure-monitor-query-1.4.1\n",
      "Note: you may need to restart the kernel to use updated packages.\n"
     ]
    },
    {
     "name": "stderr",
     "output_type": "stream",
     "text": [
      "\n",
      "[notice] A new release of pip is available: 24.3.1 -> 25.0.1\n",
      "[notice] To update, run: python.exe -m pip install --upgrade pip\n"
     ]
    }
   ],
   "source": [
    "%pip install azure-monitor-query"
   ]
  },
  {
   "cell_type": "code",
   "execution_count": 44,
   "metadata": {},
   "outputs": [],
   "source": [
    "from dotenv import load_dotenv\n",
    "import os\n",
    "\n",
    "load_dotenv()\n",
    "app_insights_app_id = os.getenv(\"app_insights_app_id\")\n",
    "app_insights_api_key = os.getenv(\"app_insights_api_key\")"
   ]
  },
  {
   "cell_type": "code",
   "execution_count": 41,
   "metadata": {},
   "outputs": [],
   "source": [
    "query = \"\"\"\"\n",
    "AppTraces\n",
    "| project AppRoleName, Message, TimeGenerated, Type\n",
    "| order by TimeGenerated desc\"\n",
    "\"\"\""
   ]
  },
  {
   "cell_type": "code",
   "execution_count": 45,
   "metadata": {},
   "outputs": [
    {
     "name": "stdout",
     "output_type": "stream",
     "text": [
      "Error: 403, {\"error\":{\"message\":\"The provided credentials have insufficient access to perform the requested operation\",\"code\":\"InsufficientAccessError\",\"correlationId\":\"019e41ac-7ba3-4a59-80d2-f5ada3bc51dd\"}}\n"
     ]
    }
   ],
   "source": [
    "import requests\n",
    "import pandas as pd\n",
    "\n",
    "url = f\"https://api.applicationinsights.io/v1/apps/{app_insights_app_id}/query\"\n",
    "\n",
    "headers = {\n",
    "    \"x-api-key\": app_insights_api_key,  # API Key authentication\n",
    "    \"Content-Type\": \"application/json\"\n",
    "}\n",
    "\n",
    "params = {\n",
    "    \"query\": query\n",
    "}\n",
    "\n",
    "try:\n",
    "    response = requests.get(url, headers=headers, params=params)\n",
    "\n",
    "    if response.status_code == 200:\n",
    "        result = response.json()\n",
    "\n",
    "        for table in result.get(\"tables\", []):\n",
    "            columns = [col[\"name\"] for col in table[\"columns\"]]\n",
    "            rows = table[\"rows\"]\n",
    "            df = pd.DataFrame(rows, columns=columns)\n",
    "            print(df)\n",
    "    else:\n",
    "        print(f\"Error: {response.status_code}, {response.text}\")\n",
    "\n",
    "except Exception as e:\n",
    "    print(\"Something fatal happened:\", str(e))"
   ]
  }
 ],
 "metadata": {
  "kernelspec": {
   "display_name": "fdrydemo_venv",
   "language": "python",
   "name": "python3"
  },
  "language_info": {
   "codemirror_mode": {
    "name": "ipython",
    "version": 3
   },
   "file_extension": ".py",
   "mimetype": "text/x-python",
   "name": "python",
   "nbconvert_exporter": "python",
   "pygments_lexer": "ipython3",
   "version": "3.13.1"
  }
 },
 "nbformat": 4,
 "nbformat_minor": 2
}

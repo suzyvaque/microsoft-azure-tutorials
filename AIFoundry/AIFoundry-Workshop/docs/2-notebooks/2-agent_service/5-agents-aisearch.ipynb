{
  "cells": [
    {
      "cell_type": "markdown",
      "id": "4b6569b8",
      "metadata": {},
      "source": [
        "# 🏋️ AI Search + Agent Service: Fitness-Fun Example 🤸\n",
        "\n",
        "Welcome to our **AI Search + AI Agent** tutorial, where we'll:\n",
        "\n",
        "1. **Create** an Azure AI Search index with some fitness-oriented sample data\n",
        "2. **Demonstrate** how to connect that index to an Agent via the `AzureAISearchTool`\n",
        "3. **Show** how to query the Agent for health and fitness info in a fun scenario (with disclaimers!)\n",
        "\n",
        "## 🏥 Health & Fitness Disclaimer\n",
        "> **This notebook is for general demonstration and entertainment purposes, NOT a substitute for professional medical advice.**\n",
        "> Always seek the advice of certified health professionals.\n",
        "\n",
        "## Prerequisites\n",
        "1. A **Microsoft Azure** subscription.\n",
        "2. An **Azure AI Search** resource (formerly \"Cognitive Search\"), with admin API key or role-based access.\n",
        "3. **Python 3.8+**, plus these libraries:\n",
        "   ```bash\n",
        "   pip install azure-search-documents==11.4.0\n",
        "   pip install azure-ai-projects azure-identity\n",
        "   pip install opentelemetry-sdk azure-core-tracing-opentelemetry\n",
        "   ```\n",
        "4. Environment variables or a way to store your secrets:\n",
        "   - `SEARCH_ENDPOINT` - The endpoint URL of your Azure AI Search service\n",
        "   - `SEARCH_API_KEY` - The admin key for your Azure AI Search service\n",
        "   - `PROJECT_CONNECTION_STRING` - Your Azure AI Foundry project connection string (from the overview page)\n",
        "   - `MODEL_DEPLOYMENT_NAME` - The name of your deployed model in Azure AI Foundry\n",
        "\n",
        "## High-Level Flow\n",
        "We'll do the following:\n",
        "1. **Create** an AI Search index programmatically with sample fitness data.\n",
        "2. **Upload** documents (fitness items) to the index.\n",
        "3. **Create** an Agent that references our new index using `AzureAISearchTool`.\n",
        "4. **Run queries** to see how it fetches from the index.\n",
        " \n",
        " <img src=\"./seq-diagrams/5-ai-search.png\" width=\"30%\"/>\n"
      ]
    },
    {
      "cell_type": "markdown",
      "id": "11b27cec",
      "metadata": {},
      "source": [
        "## 1. Create & Populate Azure AI Search Index\n",
        "We'll create a minimal index called `myfitnessindex`, containing a few example items.\n",
        "Make sure to set your environment variables for `SEARCH_ENDPOINT` and `SEARCH_API_KEY`. We'll use the `azure.search.documents.indexes` classes to manage the index schema. We'll also upload some sample data.\n"
      ]
    },
    {
      "cell_type": "code",
      "execution_count": null,
      "id": "b555e42d",
      "metadata": {},
      "outputs": [],
      "source": [
        "import os\n",
        "from azure.core.credentials import AzureKeyCredential\n",
        "from azure.search.documents.indexes import SearchIndexClient\n",
        "from azure.search.documents.indexes.models import SearchIndex, SimpleField, SearchFieldDataType\n",
        "from azure.search.documents import SearchClient\n",
        "\n",
        "search_endpoint = os.environ.get(\"SEARCH_ENDPOINT\")\n",
        "search_api_key = os.environ.get(\"SEARCH_API_KEY\")\n",
        "\n",
        "index_name = \"myfitnessindex\"\n",
        "\n",
        "try:\n",
        "    credential = AzureKeyCredential(search_api_key)\n",
        "    index_client = SearchIndexClient(endpoint=search_endpoint, credential=credential)\n",
        "    print(\"✅ SearchIndexClient created\")\n",
        "except Exception as e:\n",
        "    print(f\"❌ Error creating SearchIndexClient: {e}\")"
      ]
    },
    {
      "cell_type": "markdown",
      "id": "a8c418b5",
      "metadata": {},
      "source": [
        "**Define the index** schema with a `FitnessItemID` key and a few fields to store product info.\n"
      ]
    },
    {
      "cell_type": "code",
      "execution_count": null,
      "id": "eed5e598",
      "metadata": {},
      "outputs": [],
      "source": [
        "def create_fitness_index():\n",
        "    fields = [\n",
        "        SimpleField(name=\"FitnessItemID\", type=SearchFieldDataType.String, key=True),\n",
        "        SimpleField(name=\"Name\", type=SearchFieldDataType.String, filterable=True, searchable=True),\n",
        "        SimpleField(name=\"Category\", type=SearchFieldDataType.String, filterable=True, facetable=True, searchable=True),\n",
        "        SimpleField(name=\"Price\", type=SearchFieldDataType.Double, filterable=True, sortable=True, facetable=True),\n",
        "        SimpleField(name=\"Description\", type=SearchFieldDataType.String, searchable=True)\n",
        "    ]\n",
        "\n",
        "    index = SearchIndex(name=index_name, fields=fields)\n",
        "\n",
        "    # If index already exists, we can delete first to start fresh (optional)\n",
        "    if index_name in [x.name for x in index_client.list_indexes()]:\n",
        "        index_client.delete_index(index_name)\n",
        "        print(f\"🗑️ Deleted existing index: {index_name}\")\n",
        "\n",
        "    # Create brand-new index\n",
        "    created = index_client.create_index(index)\n",
        "    print(f\"🎉 Created index: {created.name}\")\n",
        "\n",
        "# Create the index\n",
        "create_fitness_index()"
      ]
    },
    {
      "cell_type": "markdown",
      "id": "17035c71",
      "metadata": {},
      "source": [
        "**Upload some sample documents** to `myfitnessindex`. We'll add a few items for demonstration.\n"
      ]
    },
    {
      "cell_type": "code",
      "execution_count": null,
      "id": "9af38671",
      "metadata": {},
      "outputs": [],
      "source": [
        "def upload_fitness_docs():\n",
        "    # Construct a search client for data upload\n",
        "    search_client = SearchClient(endpoint=search_endpoint,\n",
        "                                 index_name=index_name,\n",
        "                                 credential=AzureKeyCredential(search_api_key))\n",
        "\n",
        "    sample_docs = [\n",
        "        {\n",
        "            \"FitnessItemID\": \"1\",\n",
        "            \"Name\": \"Adjustable Dumbbell\",\n",
        "            \"Category\": \"Strength\",\n",
        "            \"Price\": 59.99,\n",
        "            \"Description\": \"A compact, adjustable weight for targeted muscle workouts.\"\n",
        "        },\n",
        "        {\n",
        "            \"FitnessItemID\": \"2\",\n",
        "            \"Name\": \"Yoga Mat\",\n",
        "            \"Category\": \"Flexibility\",\n",
        "            \"Price\": 25.0,\n",
        "            \"Description\": \"Non-slip mat designed for yoga, Pilates, and other exercises.\"\n",
        "        },\n",
        "        {\n",
        "            \"FitnessItemID\": \"3\",\n",
        "            \"Name\": \"Treadmill\",\n",
        "            \"Category\": \"Cardio\",\n",
        "            \"Price\": 499.0,\n",
        "            \"Description\": \"A sturdy treadmill with adjustable speed and incline settings.\"\n",
        "        },\n",
        "        {\n",
        "            \"FitnessItemID\": \"4\",\n",
        "            \"Name\": \"Resistance Bands\",\n",
        "            \"Category\": \"Strength\",\n",
        "            \"Price\": 15.0,\n",
        "            \"Description\": \"Set of colorful bands for light to moderate resistance workouts.\"\n",
        "        }\n",
        "    ]\n",
        "\n",
        "    # Upload in one go\n",
        "    result = search_client.upload_documents(documents=sample_docs)\n",
        "    print(f\"🚀 Upload result: {result}\")\n",
        "\n",
        "upload_fitness_docs()"
      ]
    },
    {
      "cell_type": "markdown",
      "id": "d95b1386",
      "metadata": {},
      "source": [
        "### Verify the documents via a basic query\n",
        "Let's do a quick search for **Strength** items.\n"
      ]
    },
    {
      "cell_type": "code",
      "execution_count": null,
      "id": "2af93084",
      "metadata": {},
      "outputs": [],
      "source": [
        "# Quick check\n",
        "search_client = SearchClient(endpoint=search_endpoint,\n",
        "                             index_name=index_name,\n",
        "                             credential=AzureKeyCredential(search_api_key))\n",
        "\n",
        "results = search_client.search(query=\"Strength\", filter=None, top=10)\n",
        "for doc in results:\n",
        "    print(doc)\n"
      ]
    },
    {
      "cell_type": "markdown",
      "id": "ed67b2f4",
      "metadata": {},
      "source": [
        "## 2. Create Agent With AI Search Tool\n",
        "We'll create a new agent and attach an `AzureAISearchTool` referencing **myfitnessindex**.\n",
        "In your environment, you need:\n",
        "- `PROJECT_CONNECTION_STRING` - from your AI Foundry project overview\n",
        "- `MODEL_DEPLOYMENT_NAME` - from the deployed model name\n",
        "\n",
        "Let's initialize the `AIProjectClient` with `DefaultAzureCredential`.\n"
      ]
    },
    {
      "cell_type": "code",
      "execution_count": null,
      "id": "4c31d0e8",
      "metadata": {},
      "outputs": [],
      "source": [
        "import os\n",
        "from azure.identity import DefaultAzureCredential\n",
        "from azure.ai.projects import AIProjectClient\n",
        "from azure.ai.projects.models import AzureAISearchTool, ConnectionType\n",
        "\n",
        "try:\n",
        "    project_client = AIProjectClient.from_connection_string(\n",
        "        credential=DefaultAzureCredential(),\n",
        "        conn_str=os.environ[\"PROJECT_CONNECTION_STRING\"],\n",
        "    )\n",
        "    print(\"✅ Successfully initialized AIProjectClient\")\n",
        "except Exception as e:\n",
        "    print(f\"❌ Error initializing project client: {e}\")"
      ]
    },
    {
      "cell_type": "markdown",
      "id": "a4988b6c",
      "metadata": {},
      "source": [
        "### Find or create the Azure AI Search connection within your Foundry project\n",
        "If you've already created a connection for your Azure AI Search resource in the Foundry project, you can list them and pick the correct one. If not, you can create a new connection in the [Portal or CLI usage for Foundry](https://learn.microsoft.com/azure/).\n"
      ]
    },
    {
      "cell_type": "code",
      "execution_count": null,
      "id": "9de13ece",
      "metadata": {},
      "outputs": [],
      "source": [
        "conn_id = None\n",
        "all_connections = project_client.connections.list()\n",
        "for c in all_connections:\n",
        "    if c.connection_type == ConnectionType.AZURE_AI_SEARCH:\n",
        "        conn_id = c.id\n",
        "        print(f\"Found existing Azure AI Search connection: {conn_id}\")\n",
        "        break\n",
        "\n",
        "if not conn_id:\n",
        "    print(\"❌ No Azure AI Search connection found in your project.\\n\",\n",
        "          \"Please create one or ask your admin to do so.\")"
      ]
    },
    {
      "cell_type": "markdown",
      "id": "e921f6c7",
      "metadata": {},
      "source": [
        "### Create the Agent with `AzureAISearchTool`\n",
        "We'll attach the tool, specifying the index name we created.\n"
      ]
    },
    {
      "cell_type": "code",
      "execution_count": null,
      "id": "6e2fe256",
      "metadata": {},
      "outputs": [],
      "source": [
        "# Replace with your model deployment name from environment\n",
        "model_name = os.environ.get(\"MODEL_DEPLOYMENT_NAME\", \"my-model-deployment\")\n",
        "\n",
        "agent = None\n",
        "if conn_id:\n",
        "    # Initialize the search tool with your index\n",
        "    ai_search_tool = AzureAISearchTool(\n",
        "        index_connection_id=conn_id,\n",
        "        index_name=index_name  # our myfitnessindex\n",
        "    )\n",
        "\n",
        "    # Create the agent\n",
        "    with project_client:\n",
        "        agent = project_client.agents.create_agent(\n",
        "            model=model_name,\n",
        "            name=\"fitness-agent-search\",\n",
        "            instructions=\"\"\"\n",
        "            You are a Fitness Shopping Assistant. You help users find items, but always disclaim not to provide medical advice.\n",
        "            \"\"\",\n",
        "            tools=ai_search_tool.definitions,\n",
        "            tool_resources=ai_search_tool.resources,\n",
        "            headers={\"x-ms-enable-preview\": \"true\"},\n",
        "        )\n",
        "        print(f\"🎉 Created agent, ID: {agent.id}\")"
      ]
    },
    {
      "cell_type": "markdown",
      "id": "704445fc",
      "metadata": {},
      "source": [
        "## 3. Run a Conversation with the Agent\n",
        "We'll open a new thread, post a question, and let the agent search the index for relevant items.\n"
      ]
    },
    {
      "cell_type": "code",
      "execution_count": null,
      "id": "9ba65c9b",
      "metadata": {},
      "outputs": [],
      "source": [
        "def run_agent_query(question: str):\n",
        "    # Create a new thread\n",
        "    thread = project_client.agents.create_thread()\n",
        "    print(f\"📝 Created thread, ID: {thread.id}\")\n",
        "\n",
        "    # Create a user message\n",
        "    message = project_client.agents.create_message(\n",
        "        thread_id=thread.id,\n",
        "        role=\"user\",\n",
        "        content=question\n",
        "    )\n",
        "    print(f\"💬 Created user message, ID: {message.id}\")\n",
        "\n",
        "    # Create and process agent run\n",
        "    run = project_client.agents.create_and_process_run(\n",
        "        thread_id=thread.id,\n",
        "        assistant_id=agent.id\n",
        "    )\n",
        "    print(f\"🤖 Agent run status: {run.status}\")\n",
        "\n",
        "    if run.last_error:\n",
        "        print(\"⚠️ Run error:\", run.last_error)\n",
        "\n",
        "    # Retrieve all messages in the thread\n",
        "    msg_list = project_client.agents.list_messages(thread_id=thread.id)\n",
        "    # We'll print the assistant's last reply\n",
        "    for m in reversed(msg_list.data):\n",
        "        if m.role == \"assistant\" and m.content:\n",
        "            print(\"\\nAssistant says:\")\n",
        "            for c in m.content:\n",
        "                if hasattr(c, \"text\"):\n",
        "                    print(c.text.value)\n",
        "            break\n",
        "\n",
        "# Let's try some queries\n",
        "if agent:\n",
        "    run_agent_query(\"Which items are good for strength training?\")\n",
        "    run_agent_query(\"I need something for cardio under $300, any suggestions?\")"
      ]
    },
    {
      "cell_type": "markdown",
      "id": "0292c370",
      "metadata": {},
      "source": [
        "## 4. Cleanup\n",
        "We'll clean up the agent. (In production, you might want to keep it!)\n"
      ]
    },
    {
      "cell_type": "code",
      "execution_count": null,
      "id": "285fdc95",
      "metadata": {},
      "outputs": [],
      "source": [
        "if agent:\n",
        "    project_client.agents.delete_agent(agent.id)\n",
        "    print(\"🗑️ Deleted agent\")\n",
        "\n",
        "index_client.delete_index(index_name)\n",
        "print(f\"🗑️ Deleted index {index_name}\")"
      ]
    },
    {
      "cell_type": "markdown",
      "id": "dcf584e3",
      "metadata": {},
      "source": [
        "# 🎉 Congrats!\n",
        "You've successfully:\n",
        "1. **Created** an Azure AI Search index programmatically.\n",
        "2. **Populated** it with sample fitness data.\n",
        "3. **Created** an Agent that queries the index using `AzureAISearchTool`.\n",
        "4. **Asked** the agent for item recommendations.\n",
        "\n",
        "Continue exploring how to integrate **OpenTelemetry** or the `azure-ai-evaluation` library for advanced tracing and evaluation capabilities. Have fun, and stay fit! 🏆\n"
      ]
    }
  ],
  "metadata": {
    "kernelspec": {
      "display_name": ".venv",
      "language": "python",
      "name": "python3"
    },
    "language_info": {
      "codemirror_mode": {
        "name": "ipython"
      },
      "file_extension": ".py",
      "mimetype": "text/x-python",
      "name": "python",
      "nbconvert_exporter": "python",
      "pygments_lexer": "ipython3",
      "version": "3.8"
    }
  },
  "nbformat": 4,
  "nbformat_minor": 5
}

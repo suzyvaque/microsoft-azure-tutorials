{
  "cells": [
    {
      "cell_type": "markdown",
      "id": "intro-bing-grounding",
      "metadata": {},
      "source": [
        "# 🍏 Health & Fitness Agent with Bing Grounding 🍎\n",
        "\n",
        "Welcome to our **Health & Fitness Agent with Bing Grounding** tutorial! In this notebook, we'll demonstrate how to:\n",
        "\n",
        "1. **Initialize** a project using Azure AI Foundry.\n",
        "2. **Create an Agent** with the **BingGroundingTool** for web search.\n",
        "3. **Ask real-world questions** about health and fitness.\n",
        "4. **Showcase disclaimers** that it's not professional medical advice.\n",
        "\n",
        "### ⚠️ Important Medical Disclaimer ⚠️\n",
        "> **All health information in this notebook is for general educational purposes only and does not replace professional medical advice, diagnosis, or treatment.** Always consult a qualified healthcare professional for personal medical concerns.\n",
        "\n",
        "## Prerequisites\n",
        "- Python 3.8 or later.\n",
        "- `azure-ai-projects`, `azure-ai-inference`, `opentelemetry-sdk`, `azure-core-tracing-opentelemetry` (optional for tracing).\n",
        "- A `.env` file in the parent directory containing:\n",
        "  ```bash\n",
        "  PROJECT_CONNECTION_STRING=<your-connection-string>\n",
        "  MODEL_DEPLOYMENT_NAME=<your-model>\n",
        "  BING_CONNECTION_NAME=<the-name-of-your-bing-connection>\n",
        "  ```\n",
        "\n",
        "## Let's Explore Bing Grounding!\n",
        "We'll integrate **Bing** search results into our agent so it can gather extra context from the web. Let's get started! 🎉\n",
        "\n",
        "<img src=\"./seq-diagrams/4-bing-grounding.png\" width=\"30%\"/>\n"
      ]
    },
    {
      "cell_type": "markdown",
      "id": "setup-initialize",
      "metadata": {},
      "source": [
        "## 1. Initial Setup\n",
        "We'll load environment variables from `.env` and initialize our **AIProjectClient** to manage agents.\n"
      ]
    },
    {
      "cell_type": "code",
      "execution_count": null,
      "id": "init-code",
      "metadata": {},
      "outputs": [],
      "source": [
        "import os\n",
        "import time\n",
        "from pathlib import Path\n",
        "\n",
        "from dotenv import load_dotenv\n",
        "from azure.identity import DefaultAzureCredential\n",
        "from azure.ai.projects import AIProjectClient\n",
        "from azure.ai.projects.models import BingGroundingTool, MessageTextContent\n",
        "\n",
        "# Load environment variables\n",
        "notebook_path = Path().absolute()\n",
        "parent_dir = notebook_path.parent\n",
        "load_dotenv(parent_dir / '.env')\n",
        "\n",
        "# Initialize AIProjectClient\n",
        "try:\n",
        "    project_client = AIProjectClient.from_connection_string(\n",
        "        credential=DefaultAzureCredential(),\n",
        "        conn_str=os.environ.get(\"PROJECT_CONNECTION_STRING\")\n",
        "    )\n",
        "    print(\"✅ Successfully initialized AIProjectClient\")\n",
        "except Exception as e:\n",
        "    print(f\"❌ Error initializing project client: {e}\")"
      ]
    },
    {
      "cell_type": "markdown",
      "id": "create-agent-with-bing-grounding",
      "metadata": {},
      "source": [
        "## 2. Create Bing-Grounded Agent 🌐\n",
        "We'll fetch our Bing connection from AI Foundry and use `BingGroundingTool` to let our agent search the web. Then we'll create a new agent with disclaimers about not being a doctor, etc.\n"
      ]
    },
    {
      "cell_type": "code",
      "execution_count": null,
      "id": "agent-bing-code",
      "metadata": {},
      "outputs": [],
      "source": [
        "def create_bing_grounded_agent():\n",
        "    \"\"\"Create an agent that can use Bing to ground queries with up-to-date info.\"\"\"\n",
        "    try:\n",
        "        # 1. Retrieve Bing connection from your AI Foundry project\n",
        "        bing_conn_name = os.environ.get(\"BING_CONNECTION_NAME\")\n",
        "        if not bing_conn_name:\n",
        "            raise ValueError(\"BING_CONNECTION_NAME not set in .env\")\n",
        "\n",
        "        bing_connection = project_client.connections.get(connection_name=bing_conn_name)\n",
        "        conn_id = bing_connection.id\n",
        "        print(f\"Bing Connection ID: {conn_id}\")\n",
        "\n",
        "        # 2. Initialize Bing grounding tool\n",
        "        bing_tool = BingGroundingTool(connection_id=conn_id)\n",
        "\n",
        "        # 3. Create an agent that can search with Bing\n",
        "        agent = project_client.agents.create_agent(\n",
        "            model=os.environ.get(\"MODEL_DEPLOYMENT_NAME\", \"gpt-4o-mini\"),\n",
        "            name=\"health-bing-agent\",\n",
        "            instructions=\"\"\"\n",
        "                You are a health and fitness assistant with Bing search capabilities.\n",
        "                Always:\n",
        "                1. Provide disclaimers that you are not a medical professional.\n",
        "                2. Encourage professional consultation.\n",
        "                3. Use Bing for real-time references.\n",
        "                4. Provide brief, helpful answers.\n",
        "            \"\"\",\n",
        "            tools=bing_tool.definitions,\n",
        "            # Must pass special preview header to use Bing grounding (subject to change)\n",
        "            headers={\"x-ms-enable-preview\": \"true\"},\n",
        "        )\n",
        "\n",
        "        print(f\"🎉 Created Bing-grounded agent, ID: {agent.id}\")\n",
        "        return agent\n",
        "    except Exception as e:\n",
        "        print(f\"❌ Error creating Bing-grounded agent: {e}\")\n",
        "        return None\n",
        "\n",
        "# Create our Bing-based agent\n",
        "bing_agent = create_bing_grounded_agent()"
      ]
    },
    {
      "cell_type": "markdown",
      "id": "create-thread",
      "metadata": {},
      "source": [
        "## 3. Starting a Thread & Asking Questions 💬\n",
        "Let's create a conversation thread, pose some health/fitness questions that might benefit from searching the web for up-to-date info.\n"
      ]
    },
    {
      "cell_type": "code",
      "execution_count": null,
      "id": "create-thread-code",
      "metadata": {},
      "outputs": [],
      "source": [
        "def ask_bing_question(agent, user_query):\n",
        "    try:\n",
        "        # Create a thread if we haven't yet\n",
        "        thread = project_client.agents.create_thread()\n",
        "        print(f\"📝 Created a conversation thread, ID: {thread.id}\")\n",
        "\n",
        "        # Post user query as a message\n",
        "        user_message = project_client.agents.create_message(\n",
        "            thread_id=thread.id,\n",
        "            role=\"user\",\n",
        "            content=user_query\n",
        "        )\n",
        "        print(f\"📨 Created user message with query: '{user_query}'\")\n",
        "\n",
        "        # Process the query with the agent\n",
        "        run = project_client.agents.create_and_process_run(\n",
        "            thread_id=thread.id,\n",
        "            assistant_id=agent.id\n",
        "        )\n",
        "        print(f\"🤖 Run finished with status: {run.status}\")\n",
        "        if run.last_error:\n",
        "            print(f\"Error detail: {run.last_error}\")\n",
        "\n",
        "        return thread, run\n",
        "    except Exception as e:\n",
        "        print(f\"❌ Error asking Bing question: {e}\")\n",
        "        return None, None\n",
        "\n",
        "if bing_agent:\n",
        "    # Let's ask a few fun questions!\n",
        "    questions = [\n",
        "        \"What are some new HIIT workout trends I should know about?\",\n",
        "        \"What's the current WHO recommendation for sugar intake?\",\n",
        "        \"Any news on intermittent fasting for weight management?\"\n",
        "    ]\n",
        "\n",
        "    for q in questions:\n",
        "        ask_bing_question(bing_agent, q)\n"
      ]
    },
    {
      "cell_type": "markdown",
      "id": "view-thread",
      "metadata": {},
      "source": [
        "## 4. Viewing Bing-Grounded Answers\n",
        "We'll see if the agent pulled in external knowledge from Bing. Note that real-time results may vary, and disclaimers should always be present.\n"
      ]
    },
    {
      "cell_type": "code",
      "execution_count": null,
      "id": "view-thread-code",
      "metadata": {},
      "outputs": [],
      "source": [
        "def view_bing_responses(thread_id):\n",
        "    try:\n",
        "        messages = project_client.agents.list_messages(thread_id=thread_id)\n",
        "        print(\"\\n🗣️ Conversation so far (oldest to newest):\")\n",
        "        for m in reversed(messages.data):\n",
        "            if m.content:\n",
        "                last_content = m.content[-1]\n",
        "                if hasattr(last_content, \"text\"):\n",
        "                    print(f\"{m.role.upper()}: {last_content.text.value}\\n\")\n",
        "    except Exception as e:\n",
        "        print(f\"❌ Error viewing Bing responses: {e}\")"
      ]
    },
    {
      "cell_type": "markdown",
      "id": "cleanup",
      "metadata": {},
      "source": [
        "## 5. Cleanup & Best Practices\n",
        "You can optionally delete the agent once you're done. In production, you might keep it around for repeated usage.\n",
        "\n",
        "### Best Practices\n",
        "1. **Accuracy** – Bing search results may contain disclaimers or partial info. Encourage verification with credible medical sources.\n",
        "2. **Limits** – Keep an eye on usage, rate limits, or policy constraints for Bing.\n",
        "3. **Privacy** – Filtering search queries is recommended to avoid sending sensitive data.\n",
        "4. **Evaluations** – Use `azure-ai-evaluation` for iterative improvement.\n"
      ]
    },
    {
      "cell_type": "code",
      "execution_count": null,
      "id": "cleanup-code",
      "metadata": {},
      "outputs": [],
      "source": [
        "def cleanup_bing_agent(agent):\n",
        "    if agent:\n",
        "        try:\n",
        "            project_client.agents.delete_agent(agent.id)\n",
        "            print(f\"🗑️ Deleted Bing-grounded agent: {agent.name}\")\n",
        "        except Exception as e:\n",
        "            print(f\"❌ Error cleaning up agent: {e}\")\n",
        "    else:\n",
        "        print(\"No agent to clean up.\")\n",
        "\n",
        "# Uncomment if you want to remove the agent now\n",
        "# cleanup_bing_agent(bing_agent)\n"
      ]
    },
    {
      "cell_type": "markdown",
      "id": "final-note",
      "metadata": {},
      "source": [
        "# Congratulations! 🎉\n",
        "You've built a **Bing-Grounded Health & Fitness Agent** that can:\n",
        "1. **Search** the web with Bing.\n",
        "2. **Answer** health/fitness questions with disclaimers.\n",
        "3. **Combine** local instructions with up-to-date external references.\n",
        "\n",
        "Feel free to expand this approach by combining the BingGroundingTool with other tools (e.g., **FileSearchTool**, **CodeInterpreterTool**) to build a robust health advisor. Always keep disclaimers front and center. Have fun exploring!\n"
      ]
    }
  ],
  "metadata": {
    "kernelspec": {
      "display_name": ".venv",
      "language": "python",
      "name": "python3"
    },
    "language_info": {
      "codemirror_mode": {
        "name": "ipython",
        "version": 3
      },
      "file_extension": ".py",
      "mimetype": "text/x-python",
      "name": "python",
      "nbconvert_exporter": "python",
      "pygments_lexer": "ipython3",
      "version": "3.12.8"
    }
  },
  "nbformat": 4,
  "nbformat_minor": 5
}

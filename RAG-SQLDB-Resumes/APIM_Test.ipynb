{
  "cells": [
    {
      "cell_type": "code",
      "source": [
        "import sys\n",
        "import os\n",
        "import requests\n",
        "\n",
        "#Load the env details\n",
        "from dotenv import load_dotenv\n",
        "load_dotenv()"
      ],
      "outputs": [],
      "execution_count": null,
      "metadata": {}
    },
    {
      "cell_type": "code",
      "source": [
        "# Get environment variables\n",
        "apim_url = os.getenv(\"APIM_URL\")\n",
        "api_version = os.getenv(\"APIM_API_VERSION\")\n",
        "subscription_key = os.getenv(\"APIM_SUBSCRIPTION_KEY\")\n",
        "\n",
        "embedding_deployment_name = os.getenv(\"APIM_EMBEDDING_DEPLOYMENT_NAME\")\n",
        "chat_deployment_name = os.getenv(\"APIM_CHAT_DEPLOYMENT_NAME\")\n",
        "\n",
        "# Construct the URL and headers\n",
        "embedding_url = f'{apim_url}/deployments/{embedding_deployment_name}/embeddings?api-version={api_version}'\n",
        "chat_url = f'{apim_url}/deployments/{chat_deployment_name}/chat/completions?api-version={api_version}'\n",
        "\n",
        "headers = {\n",
        "    \"Content-Type\": \"application/json\",\n",
        "    \"Ocp-Apim-Subscription-Key\": subscription_key\n",
        "}"
      ],
      "outputs": [],
      "execution_count": null,
      "metadata": {}
    },
    {
      "cell_type": "code",
      "source": [
        "# Test Connection: EMBEDDING\n",
        "\n",
        "# Sample input text\n",
        "input_text = \"Hello, World\"\n",
        "\n",
        "# Make the request\n",
        "response = requests.post(embedding_url, headers=headers, json={\"input\": input_text})\n",
        "\n",
        "# Print the response\n",
        "print(f\"Response status code: {response.status_code}\")\n",
        "\n",
        "# Check if the request was successful\n",
        "if response.status_code == 200:\n",
        "    embedding = response.json().get(\"data\", [])[0].get(\"embedding\", [])\n",
        "    print(f\"Embedding: {embedding}\")\n",
        "else:\n",
        "    print(\"Failed to get embedding\")"
      ],
      "outputs": [],
      "execution_count": null,
      "metadata": {}
    },
    {
      "cell_type": "code",
      "source": [
        "# Test Failover: EMBEDDING\n",
        "\n",
        "input_text = \"Hello, World!\"\n",
        "\n",
        "total_calls = 30\n",
        "failure = 0\n",
        "failure_reasons = {}\n",
        "\n",
        "for i in range(total_calls):\n",
        "    response = requests.post(embedding_url, headers=headers, json={\"input\": input_text})\n",
        "    if response.status_code == 200:\n",
        "        embedding = response.json().get(\"data\", [])[0].get(\"embedding\", [])[0]\n",
        "        print(f\"[{i+1}/{total_calls}] Status {response.status_code}: {embedding} ...\")\n",
        "    else:\n",
        "        failure += 1\n",
        "        failure_reasons.update({response.status_code: i})   # Keep track of different failure http code returned\n",
        "        print(f\"[{i+1}/{total_calls}] Status {response.status_code}: Failed to get embedding\")\n",
        "        \n",
        "\n",
        "print(f\"\\n{(total_calls-failure)} succeeded out of {total_calls} calls\")\n",
        "if failure > 0:\n",
        "    print(f\"\\n{failure} failure with response {', '.join(map(str, failure_reasons.keys()))}\")"
      ],
      "outputs": [],
      "execution_count": null,
      "metadata": {}
    },
    {
      "cell_type": "code",
      "source": [
        "# Test Connection: CHAT\n",
        "\n",
        "# Sample input text\n",
        "input_text = {\n",
        "        \"messages\": [\n",
        "            {\n",
        "                \"role\": \"user\",\n",
        "                \"content\": \"Hey. What's up?\"\n",
        "            }\n",
        "        ],\n",
        "    }\n",
        "\n",
        "# Make the request\n",
        "response = requests.post(chat_url, headers=headers, json=input_text)\n",
        "\n",
        "# Print the response\n",
        "print(f\"Response status code: {response.status_code}\")\n",
        "\n",
        "# Check if the request was successful\n",
        "if response.status_code == 200:\n",
        "    chat = response.json()['choices'][0]['message']['content']\n",
        "    print(f\"Chat: {chat}\")\n",
        "else:\n",
        "    print(\"Failed to get chat\")"
      ],
      "outputs": [],
      "execution_count": null,
      "metadata": {}
    },
    {
      "cell_type": "code",
      "source": [
        "# Test Failover: CHAT\n",
        "\n",
        "input_text = {\n",
        "        \"messages\": [\n",
        "            {\n",
        "                \"role\": \"user\",\n",
        "                \"content\": \"Hey. What's up?\"\n",
        "            }\n",
        "        ],\n",
        "    }\n",
        "\n",
        "total_calls = 30\n",
        "failure = 0\n",
        "failure_reasons = {}\n",
        "\n",
        "for i in range(total_calls):\n",
        "    response = requests.post(chat_url, headers=headers, json=input_text)\n",
        "    if response.status_code == 200:\n",
        "        chat = response.json()['choices'][0]['message']['content'][:6]\n",
        "        print(f\"[{i+1}/{total_calls}] Status {response.status_code}: {chat} ...\")\n",
        "    else:\n",
        "        failure += 1\n",
        "        failure_reasons.update({response.status_code: i})   # Keep track of different failure http code returned\n",
        "        print(f\"[{i+1}/{total_calls}] Status {response.status_code}: Failed to get chat\")\n",
        "\n",
        "print(f\"\\n{(total_calls-failure)} succeeded out of {total_calls} calls\")\n",
        "if failure > 0:\n",
        "    print(f\"\\n{failure} failure with response {', '.join(map(str, failure_reasons.keys()))}\")"
      ],
      "outputs": [],
      "execution_count": null,
      "metadata": {}
    }
  ],
  "metadata": {
    "kernelspec": {
      "name": "python310-sdkv2",
      "language": "python",
      "display_name": "Python 3.10 - SDK v2"
    },
    "language_info": {
      "name": "python",
      "version": "3.10.14",
      "mimetype": "text/x-python",
      "codemirror_mode": {
        "name": "ipython",
        "version": 3
      },
      "pygments_lexer": "ipython3",
      "nbconvert_exporter": "python",
      "file_extension": ".py"
    },
    "microsoft": {
      "ms_spell_check": {
        "ms_spell_check_language": "en"
      }
    },
    "kernel_info": {
      "name": "python310-sdkv2"
    },
    "nteract": {
      "version": "nteract-front-end@1.0.0"
    }
  },
  "nbformat": 4,
  "nbformat_minor": 2
}